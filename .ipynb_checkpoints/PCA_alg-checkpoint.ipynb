{
 "cells": [
  {
   "cell_type": "markdown",
   "metadata": {},
   "source": [
    "### Метод главных компонент (principal component analysis, PCA) \n",
    "Метод главных компонент (principal component analysis, PCA) — это один из методов обучения без учителя, который позволяет сформировать новые признаки, являющиеся линейными комбинациями старых. При этом новые признаки строятся так, чтобы сохранить как можно больше дисперсии в данных. Иными словами, метод главных компонент понижает размерность данных оптимальным с точки зрения сохранения дисперсии способом."
   ]
  },
  {
   "cell_type": "code",
   "execution_count": 9,
   "metadata": {},
   "outputs": [],
   "source": [
    "import numpy as np\n",
    "import pandas as pd \n",
    "from sklearn.decomposition import PCA"
   ]
  },
  {
   "cell_type": "code",
   "execution_count": 118,
   "metadata": {},
   "outputs": [
    {
     "name": "stdout",
     "output_type": "stream",
     "text": [
      "Need components 4\n"
     ]
    }
   ],
   "source": [
    "data = pd.read_csv('close_prices.csv')\n",
    "X = data.iloc[:,1:]\n",
    "#Построили и обучили модель\n",
    "pca = PCA(n_components = 10)\n",
    "pca.fit(X)\n",
    "\n",
    "#Посчитали сумму компонент и когда стало больше 0.9 вывели число\n",
    "count = 0\n",
    "summa = 0\n",
    "for i in range(len(pca.explained_variance_ratio_)):\n",
    "    count+=1\n",
    "    value = pca.explained_variance_ratio_[i]\n",
    "    summa+= value\n",
    "    if summa > 0.9:\n",
    "        break\n",
    "print(\"Need components %d\" % count)\n",
    "\n",
    "first_comp = pca.transform(X)[:,0] # Первая компонента из всех моссивов [][0]"
   ]
  },
  {
   "cell_type": "code",
   "execution_count": 122,
   "metadata": {},
   "outputs": [
    {
     "name": "stdout",
     "output_type": "stream",
     "text": [
      "[[1.         0.90965222]\n",
      " [0.90965222 1.        ]]\n",
      "V    196.240005\n",
      "Name: 0, dtype: float64\n"
     ]
    }
   ],
   "source": [
    "djia = pd.read_csv('djia_index.csv')\n",
    "djia = djia.iloc[:,1:]\n",
    "\n",
    "#Получаем корреляцию Пирсона между первой компонентой и индексом Доу-Джонса\n",
    "coef = np.corrcoef(first_comp.T, djia.T)\n",
    "print(coef)\n",
    "\n",
    "#Находим компанию с наибольшим весом в первой компоненте. Это V, сокращенно VISA\n",
    "print(X.iloc[0,[pca.components_[0].argmax()]])"
   ]
  },
  {
   "cell_type": "code",
   "execution_count": null,
   "metadata": {},
   "outputs": [],
   "source": []
  }
 ],
 "metadata": {
  "kernelspec": {
   "display_name": "Python 3",
   "language": "python",
   "name": "python3"
  },
  "language_info": {
   "codemirror_mode": {
    "name": "ipython",
    "version": 3
   },
   "file_extension": ".py",
   "mimetype": "text/x-python",
   "name": "python",
   "nbconvert_exporter": "python",
   "pygments_lexer": "ipython3",
   "version": "3.7.4"
  }
 },
 "nbformat": 4,
 "nbformat_minor": 4
}
