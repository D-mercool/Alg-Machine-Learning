{
 "cells": [
  {
   "cell_type": "code",
   "execution_count": 12,
   "metadata": {},
   "outputs": [],
   "source": [
    "import numpy as np\n",
    "import pandas as pd\n",
    "from sklearn.preprocessing import OneHotEncoder\n",
    "from sklearn.svm import SVC"
   ]
  },
  {
   "cell_type": "code",
   "execution_count": 24,
   "metadata": {},
   "outputs": [
    {
     "name": "stdout",
     "output_type": "stream",
     "text": [
      "[0 1 0 0 0 0 1 0 1]\n",
      "[0, 1, 0, 0, 0, 0, 1, 0, 1]\n"
     ]
    }
   ],
   "source": [
    "X = [['Msk'], ['Spb'], ['Sochi'], ['Ekat'], ['Sochi'], ['Msk'], ['Msk']]    \n",
    "y = [1, 0, 0, 0, 1, 1, 1]\n",
    "\n",
    "X_test = [['Spb'], ['Msk'], ['Spb'], ['Spb'], ['Sochi'], ['Ekat'], ['Msk'], ['Ekat'], ['Msk']]\n",
    "y_test = [0, 1, 0, 0, 0, 0, 1, 0, 1]\n",
    "\n",
    "enc = OneHotEncoder(handle_unknown='ignore')\n",
    "X = enc.fit_transform(X)\n",
    "X_test = enc.transform(X_test)\n",
    "\n",
    "svc = SVC(random_state=241)\n",
    "svc.fit(X, y)\n",
    "\n",
    "print(svc.predict(X_test))\n",
    "print(y_test)"
   ]
  },
  {
   "cell_type": "code",
   "execution_count": null,
   "metadata": {},
   "outputs": [],
   "source": []
  }
 ],
 "metadata": {
  "kernelspec": {
   "display_name": "Python 3",
   "language": "python",
   "name": "python3"
  },
  "language_info": {
   "codemirror_mode": {
    "name": "ipython",
    "version": 3
   },
   "file_extension": ".py",
   "mimetype": "text/x-python",
   "name": "python",
   "nbconvert_exporter": "python",
   "pygments_lexer": "ipython3",
   "version": "3.7.4"
  }
 },
 "nbformat": 4,
 "nbformat_minor": 2
}
