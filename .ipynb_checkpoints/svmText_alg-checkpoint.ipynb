{
 "cells": [
  {
   "cell_type": "markdown",
   "metadata": {},
   "source": [
    "### Метод опорных весторов\n",
    "Одна из причин популярности линейных методов заключается в том, что они хорошо работают на разреженных данных. Так называются выборки с большим количеством признаков, где на каждом объекте большинство признаков равны нулю. Разреженные данные возникают, например, при работе с текстами. Дело в том, что текст удобно кодировать с помощью \"мешка слов\" — формируется столько признаков, сколько всего уникальных слов встречается в текстах, и значение каждого признака равно числу вхождений в документ соответствующего слова. Ясно, что общее число различных слов в наборе текстов может достигать десятков тысяч, и при этом лишь небольшая их часть будет встречаться в одном конкретном тексте.\n",
    "\n",
    "Можно кодировать тексты хитрее, и записывать не количество вхождений слова в текст, а TF-IDF. Это показатель, который равен произведению двух чисел: TF (term frequency) и IDF (inverse document frequency). Первая равна отношению числа вхождений слова в документ к общей длине документа. Вторая величина зависит от того, в скольки документах выборки встречается это слово. Чем больше таких документов, тем меньше IDF. Таким образом, TF-IDF будет иметь высокое значение для тех слов, которые много раз встречаются в данном документе, и редко встречаются в остальных."
   ]
  },
  {
   "cell_type": "code",
   "execution_count": 1,
   "metadata": {},
   "outputs": [],
   "source": [
    "from sklearn import datasets\n",
    "from sklearn.svm import SVC\n",
    "from sklearn.feature_extraction.text import TfidfVectorizer\n",
    "from sklearn.model_selection import KFold #Кросс-валидация\n",
    "from sklearn.model_selection import GridSearchCV\n",
    "import pandas as pd\n",
    "import numpy as np"
   ]
  },
  {
   "cell_type": "code",
   "execution_count": 8,
   "metadata": {},
   "outputs": [],
   "source": [
    "newsgroups = datasets.fetch_20newsgroups(\n",
    "                    subset='all', \n",
    "                    categories=['alt.atheism', 'sci.space']\n",
    "             )"
   ]
  },
  {
   "cell_type": "markdown",
   "metadata": {},
   "source": [
    "После выполнения этого кода массив с текстами будет находиться в поле newsgroups.data, номер класса — в поле newsgroups.target.\n",
    "\n",
    "Одна из сложностей работы с текстовыми данными состоит в том, что для них нужно построить числовое представление. Одним из способов нахождения такого представления является вычисление TF-IDF. В Scikit-Learn это реализовано в классе sklearn.feature_extraction.text.TfidfVectorizer. Преобразование обучающей выборки нужно делать с помощью функции fit_transform, тестовой — с помощью transform.\n",
    "\n",
    "Реализация SVM-классификатора находится в классе sklearn.svm.SVC. Веса каждого признака у обученного классификатора хранятся в поле coef_. Чтобы понять, какому слову соответствует i-й признак, можно воспользоваться методом get_feature_names() у TfidfVectorizer:"
   ]
  },
  {
   "cell_type": "markdown",
   "metadata": {},
   "source": [
    "Подбор параметров удобно делать с помощью класса sklearn.grid_search.GridSearchCV (При использовании библиотеки scikit-learn версии 18.0.1 sklearn.model_selection.GridSearchCV). Пример использования:"
   ]
  },
  {
   "cell_type": "code",
   "execution_count": 23,
   "metadata": {},
   "outputs": [
    {
     "data": {
      "text/plain": [
       "{'C': array([1.e-05, 1.e-04, 1.e-03, 1.e-02, 1.e-01, 1.e+00, 1.e+01, 1.e+02,\n",
       "        1.e+03, 1.e+04, 1.e+05])}"
      ]
     },
     "metadata": {},
     "output_type": "display_data"
    }
   ],
   "source": [
    "grid = {'C': np.power(10.0, np.arange(-5, 6))}\n",
    "cv = KFold(n_splits=5, shuffle=True, random_state=241)\n",
    "clf = SVC(kernel='linear', random_state=241)\n",
    "\n",
    "gs = GridSearchCV(clf, grid, scoring='accuracy', cv=cv)\n",
    "#gs.fit(X, y)\n",
    "display(grid)"
   ]
  },
  {
   "cell_type": "markdown",
   "metadata": {},
   "source": [
    "Первым аргументом в GridSearchCV передается классификатор, для которого будут подбираться значения параметров, вторым — словарь (dict), задающий сетку параметров для перебора. После того, как перебор окончен, можно проанализировать значения качества для всех значений параметров и выбрать наилучший вариант:"
   ]
  },
  {
   "cell_type": "code",
   "execution_count": 32,
   "metadata": {},
   "outputs": [],
   "source": [
    "#gs.cv_results_:\n",
    "# a.mean_validation_score — оценка качества по кросс-валидации\n",
    "# a.parameters — значения параметров"
   ]
  },
  {
   "cell_type": "markdown",
   "metadata": {},
   "source": [
    "### Программа реализации"
   ]
  },
  {
   "cell_type": "code",
   "execution_count": 15,
   "metadata": {},
   "outputs": [
    {
     "data": {
      "text/plain": [
       "{'mean_fit_time': array([3.00211968, 3.16744857, 3.09562478, 3.10160151, 2.67761135,\n",
       "        1.62484107, 1.55921345, 1.60480347, 1.58026052, 1.54081168,\n",
       "        1.67076912]),\n",
       " 'std_fit_time': array([0.17778136, 0.15359163, 0.04947239, 0.13319091, 0.14761782,\n",
       "        0.09809762, 0.01724028, 0.06254661, 0.04491307, 0.02851937,\n",
       "        0.08421242]),\n",
       " 'mean_score_time': array([0.73806014, 0.74318805, 0.71383133, 0.7403996 , 0.64839854,\n",
       "        0.36917791, 0.35781803, 0.36940122, 0.35859804, 0.35279961,\n",
       "        0.37680974]),\n",
       " 'std_score_time': array([0.03776966, 0.03147801, 0.01074824, 0.02806663, 0.02684614,\n",
       "        0.02283174, 0.00752187, 0.02189658, 0.01326751, 0.00886235,\n",
       "        0.02135754]),\n",
       " 'param_C': masked_array(data=[1e-05, 0.0001, 0.001, 0.01, 0.1, 1.0, 10.0, 100.0,\n",
       "                    1000.0, 10000.0, 100000.0],\n",
       "              mask=[False, False, False, False, False, False, False, False,\n",
       "                    False, False, False],\n",
       "        fill_value='?',\n",
       "             dtype=object),\n",
       " 'params': [{'C': 1e-05},\n",
       "  {'C': 0.0001},\n",
       "  {'C': 0.001},\n",
       "  {'C': 0.01},\n",
       "  {'C': 0.1},\n",
       "  {'C': 1.0},\n",
       "  {'C': 10.0},\n",
       "  {'C': 100.0},\n",
       "  {'C': 1000.0},\n",
       "  {'C': 10000.0},\n",
       "  {'C': 100000.0}],\n",
       " 'split0_test_score': array([0.54469274, 0.54469274, 0.54469274, 0.54469274, 0.95810056,\n",
       "        0.99441341, 0.99441341, 0.99441341, 0.99441341, 0.99441341,\n",
       "        0.99441341]),\n",
       " 'split1_test_score': array([0.57983193, 0.57983193, 0.57983193, 0.57983193, 0.94957983,\n",
       "        0.9859944 , 0.9859944 , 0.9859944 , 0.9859944 , 0.9859944 ,\n",
       "        0.9859944 ]),\n",
       " 'split2_test_score': array([0.57142857, 0.57142857, 0.57142857, 0.57142857, 0.95798319,\n",
       "        1.        , 1.        , 1.        , 1.        , 1.        ,\n",
       "        1.        ]),\n",
       " 'split3_test_score': array([0.50140056, 0.50140056, 0.50140056, 0.50140056, 0.93557423,\n",
       "        0.99159664, 0.99159664, 0.99159664, 0.99159664, 0.99159664,\n",
       "        0.99159664]),\n",
       " 'split4_test_score': array([0.56582633, 0.56582633, 0.56582633, 0.56582633, 0.94957983,\n",
       "        0.99439776, 0.99439776, 0.99439776, 0.99439776, 0.99439776,\n",
       "        0.99439776]),\n",
       " 'mean_test_score': array([0.55263603, 0.55263603, 0.55263603, 0.55263603, 0.95016353,\n",
       "        0.99328044, 0.99328044, 0.99328044, 0.99328044, 0.99328044,\n",
       "        0.99328044]),\n",
       " 'std_test_score': array([0.02812447, 0.02812447, 0.02812447, 0.02812447, 0.00821794,\n",
       "        0.00455206, 0.00455206, 0.00455206, 0.00455206, 0.00455206,\n",
       "        0.00455206]),\n",
       " 'rank_test_score': array([8, 8, 8, 8, 7, 1, 1, 1, 1, 1, 1], dtype=int32)}"
      ]
     },
     "execution_count": 15,
     "metadata": {},
     "output_type": "execute_result"
    }
   ],
   "source": [
    "newsgroups = datasets.fetch_20newsgroups(\n",
    "                    subset='all', \n",
    "                    categories=['alt.atheism', 'sci.space']\n",
    "             )\n",
    "\n",
    "#Вычисление TF-IDF-признаков для всех текстов\n",
    "vectorizer = TfidfVectorizer()\n",
    "X = vectorizer.fit_transform(newsgroups.data)\n",
    "y = newsgroups.target\n",
    "\n",
    "#Cетка параметров для перебора 10^-5 ... 10^5 \n",
    "grid = {'C': np.power(10.0, np.arange(-5, 6))}\n",
    "\n",
    "#Кросс-валидация по 5 блокам\n",
    "cv = KFold(n_splits=5, shuffle=True, random_state=241)\n",
    "\n",
    "#Обучение и подбор параметра С\n",
    "clf = SVC(kernel='linear', random_state=241)\n",
    "gs = GridSearchCV(clf, grid, scoring='accuracy', cv=cv) #Подбор параметров (В нашем случае C)\n",
    "gs.fit(X,y)\n",
    "gs.cv_results_"
   ]
  },
  {
   "cell_type": "code",
   "execution_count": 16,
   "metadata": {},
   "outputs": [
    {
     "data": {
      "text/html": [
       "<div>\n",
       "<style scoped>\n",
       "    .dataframe tbody tr th:only-of-type {\n",
       "        vertical-align: middle;\n",
       "    }\n",
       "\n",
       "    .dataframe tbody tr th {\n",
       "        vertical-align: top;\n",
       "    }\n",
       "\n",
       "    .dataframe thead th {\n",
       "        text-align: right;\n",
       "    }\n",
       "</style>\n",
       "<table border=\"1\" class=\"dataframe\">\n",
       "  <thead>\n",
       "    <tr style=\"text-align: right;\">\n",
       "      <th></th>\n",
       "      <th>col</th>\n",
       "    </tr>\n",
       "  </thead>\n",
       "  <tbody>\n",
       "    <tr>\n",
       "      <th>atheism</th>\n",
       "      <td>1.254690</td>\n",
       "    </tr>\n",
       "    <tr>\n",
       "      <th>atheists</th>\n",
       "      <td>1.249180</td>\n",
       "    </tr>\n",
       "    <tr>\n",
       "      <th>bible</th>\n",
       "      <td>1.130612</td>\n",
       "    </tr>\n",
       "    <tr>\n",
       "      <th>god</th>\n",
       "      <td>1.920379</td>\n",
       "    </tr>\n",
       "    <tr>\n",
       "      <th>keith</th>\n",
       "      <td>1.097094</td>\n",
       "    </tr>\n",
       "    <tr>\n",
       "      <th>moon</th>\n",
       "      <td>1.201611</td>\n",
       "    </tr>\n",
       "    <tr>\n",
       "      <th>religion</th>\n",
       "      <td>1.139081</td>\n",
       "    </tr>\n",
       "    <tr>\n",
       "      <th>sci</th>\n",
       "      <td>1.029307</td>\n",
       "    </tr>\n",
       "    <tr>\n",
       "      <th>sky</th>\n",
       "      <td>1.180132</td>\n",
       "    </tr>\n",
       "    <tr>\n",
       "      <th>space</th>\n",
       "      <td>2.663165</td>\n",
       "    </tr>\n",
       "  </tbody>\n",
       "</table>\n",
       "</div>"
      ],
      "text/plain": [
       "               col\n",
       "atheism   1.254690\n",
       "atheists  1.249180\n",
       "bible     1.130612\n",
       "god       1.920379\n",
       "keith     1.097094\n",
       "moon      1.201611\n",
       "religion  1.139081\n",
       "sci       1.029307\n",
       "sky       1.180132\n",
       "space     2.663165"
      ]
     },
     "metadata": {},
     "output_type": "display_data"
    }
   ],
   "source": [
    "#ВЫВОД Параметр С=1 дает лучший результат на 5 выборках\n",
    "\n",
    "clf = SVC(kernel='linear', random_state=241) #С=1.0 по умолчанию\n",
    "clf.fit(X,y)\n",
    "\n",
    "#10 слов с наибольшим абсолютным значением веса\n",
    "#Находим слова с наиболее большим весом из get_feature_names()\n",
    "df = pd.DataFrame(np.transpose(abs(clf.coef_.toarray())), #Берем по модулю потому что 2 класса todense() переводит матрицу из разряженной в обычную \n",
    "                   index=np.asarray(vectorizer.get_feature_names()), \n",
    "                   columns=[\"col\"])\n",
    "\n",
    "df_sort = df.sort_values(by='col')[::-1]\n",
    "display(df_sort[:10].sort_index())"
   ]
  },
  {
   "cell_type": "code",
   "execution_count": 6,
   "metadata": {},
   "outputs": [
    {
     "data": {
      "text/html": [
       "<div>\n",
       "<style scoped>\n",
       "    .dataframe tbody tr th:only-of-type {\n",
       "        vertical-align: middle;\n",
       "    }\n",
       "\n",
       "    .dataframe tbody tr th {\n",
       "        vertical-align: top;\n",
       "    }\n",
       "\n",
       "    .dataframe thead th {\n",
       "        text-align: right;\n",
       "    }\n",
       "</style>\n",
       "<table border=\"1\" class=\"dataframe\">\n",
       "  <thead>\n",
       "    <tr style=\"text-align: right;\">\n",
       "      <th></th>\n",
       "      <th>col</th>\n",
       "    </tr>\n",
       "  </thead>\n",
       "  <tbody>\n",
       "    <tr>\n",
       "      <th>god</th>\n",
       "      <td>-1.920379</td>\n",
       "    </tr>\n",
       "    <tr>\n",
       "      <th>atheism</th>\n",
       "      <td>-1.254690</td>\n",
       "    </tr>\n",
       "    <tr>\n",
       "      <th>atheists</th>\n",
       "      <td>-1.249180</td>\n",
       "    </tr>\n",
       "    <tr>\n",
       "      <th>religion</th>\n",
       "      <td>-1.139081</td>\n",
       "    </tr>\n",
       "    <tr>\n",
       "      <th>bible</th>\n",
       "      <td>-1.130612</td>\n",
       "    </tr>\n",
       "    <tr>\n",
       "      <th>...</th>\n",
       "      <td>...</td>\n",
       "    </tr>\n",
       "    <tr>\n",
       "      <th>nasa</th>\n",
       "      <td>1.024223</td>\n",
       "    </tr>\n",
       "    <tr>\n",
       "      <th>sci</th>\n",
       "      <td>1.029307</td>\n",
       "    </tr>\n",
       "    <tr>\n",
       "      <th>sky</th>\n",
       "      <td>1.180132</td>\n",
       "    </tr>\n",
       "    <tr>\n",
       "      <th>moon</th>\n",
       "      <td>1.201611</td>\n",
       "    </tr>\n",
       "    <tr>\n",
       "      <th>space</th>\n",
       "      <td>2.663165</td>\n",
       "    </tr>\n",
       "  </tbody>\n",
       "</table>\n",
       "<p>28382 rows × 1 columns</p>\n",
       "</div>"
      ],
      "text/plain": [
       "               col\n",
       "god      -1.920379\n",
       "atheism  -1.254690\n",
       "atheists -1.249180\n",
       "religion -1.139081\n",
       "bible    -1.130612\n",
       "...            ...\n",
       "nasa      1.024223\n",
       "sci       1.029307\n",
       "sky       1.180132\n",
       "moon      1.201611\n",
       "space     2.663165\n",
       "\n",
       "[28382 rows x 1 columns]"
      ]
     },
     "metadata": {},
     "output_type": "display_data"
    }
   ],
   "source": [
    "df1 = pd.DataFrame(np.transpose(clf.coef_.toarray()), #Берем по модулю потому что 2 класса todense() переводит матрицу из разряженной в обычную \n",
    "                   index=np.asarray(vectorizer.get_feature_names()), \n",
    "                   columns=[\"col\"])\n",
    "display(df1.sort_values(by='col'))"
   ]
  },
  {
   "cell_type": "markdown",
   "metadata": {},
   "source": [
    "###### Отрицательные значения соответствиют класс 0, что в свою очередь тема Атеизма, а положительные значения классу 1, что значит тема Космоса"
   ]
  },
  {
   "cell_type": "code",
   "execution_count": 17,
   "metadata": {},
   "outputs": [
    {
     "data": {
      "text/plain": [
       "array([1], dtype=int32)"
      ]
     },
     "execution_count": 17,
     "metadata": {},
     "output_type": "execute_result"
    }
   ],
   "source": [
    "X_test = [\"Last fall, Earth was gripped by the news that two large satellites were going to make an uncontrolled fall from orbit: NASA's UARS and Germany's ROSAT. Fortunately, despite many pieces of the satellites surviving to impact Earth's surface no one was hurt and no damage was done. However, if the falls had taken place just a few hours either way of when they did, populated areas could have been in the fall zone. \"]\n",
    "X_test = vectorizer.transform(X_test)\n",
    "clf.predict(X_test)"
   ]
  },
  {
   "cell_type": "code",
   "execution_count": null,
   "metadata": {},
   "outputs": [],
   "source": []
  }
 ],
 "metadata": {
  "kernelspec": {
   "display_name": "Python 3",
   "language": "python",
   "name": "python3"
  },
  "language_info": {
   "codemirror_mode": {
    "name": "ipython",
    "version": 3
   },
   "file_extension": ".py",
   "mimetype": "text/x-python",
   "name": "python",
   "nbconvert_exporter": "python",
   "pygments_lexer": "ipython3",
   "version": "3.7.4"
  }
 },
 "nbformat": 4,
 "nbformat_minor": 4
}
