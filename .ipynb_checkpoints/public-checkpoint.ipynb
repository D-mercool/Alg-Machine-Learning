{
 "cells": [
  {
   "cell_type": "code",
   "execution_count": 478,
   "metadata": {},
   "outputs": [],
   "source": [
    "import pandas as pd\n",
    "import numpy as np\n",
    "import csv"
   ]
  },
  {
   "cell_type": "markdown",
   "metadata": {},
   "source": [
    "### Обработка данных"
   ]
  },
  {
   "cell_type": "code",
   "execution_count": 479,
   "metadata": {},
   "outputs": [],
   "source": [
    "d1 = []\n",
    "d2 = []\n",
    "with open('sqli.csv', newline='') as File:\n",
    "    reader = csv.reader(File)\n",
    "    for row in reader:\n",
    "        d1.append(row[0])\n",
    "        try:\n",
    "            if row[1] != '1':\n",
    "                d2.append('NaN')\n",
    "            else:\n",
    "                d2.append(int(row[1]))\n",
    "        except:\n",
    "            d2.append('NaN')\n",
    "        \n",
    "\n",
    "d1.pop(0)\n",
    "d2.pop(0)\n",
    "d1 = pd.Series(d1)\n",
    "d2 = pd.Series(d2)\n",
    "data = pd.concat([d1, d2],axis=1)\n",
    "data.columns = ['Sentence', 'Label']\n",
    "\n",
    "data[data[:1129] == 'NaN'] = 1\n",
    "data[data[1129:] == 'NaN' ] = 0"
   ]
  },
  {
   "cell_type": "code",
   "execution_count": null,
   "metadata": {},
   "outputs": [],
   "source": []
  }
 ],
 "metadata": {
  "kernelspec": {
   "display_name": "Python 3",
   "language": "python",
   "name": "python3"
  },
  "language_info": {
   "codemirror_mode": {
    "name": "ipython",
    "version": 3
   },
   "file_extension": ".py",
   "mimetype": "text/x-python",
   "name": "python",
   "nbconvert_exporter": "python",
   "pygments_lexer": "ipython3",
   "version": "3.7.4"
  }
 },
 "nbformat": 4,
 "nbformat_minor": 2
}
