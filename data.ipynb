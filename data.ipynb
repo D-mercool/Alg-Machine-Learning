{
 "cells": [
  {
   "cell_type": "code",
   "execution_count": 192,
   "metadata": {},
   "outputs": [],
   "source": [
    "from sklearn import datasets\n",
    "from sklearn.svm import SVC\n",
    "from sklearn.feature_extraction.text import TfidfVectorizer\n",
    "from sklearn.model_selection import KFold #Кросс-валидация\n",
    "from sklearn.model_selection import GridSearchCV\n",
    "from sklearn.model_selection import train_test_split\n",
    "from sklearn.metrics import f1_score\n",
    "from sklearn.metrics import roc_auc_score\n",
    "from sklearn.metrics import precision_score\n",
    "from sklearn.metrics import recall_score\n",
    "from sklearn.metrics import accuracy_score\n",
    "import pandas as pd\n",
    "import numpy as np\n",
    "import os, codecs"
   ]
  },
  {
   "cell_type": "code",
   "execution_count": 198,
   "metadata": {},
   "outputs": [],
   "source": [
    "X = []\n",
    "y = []\n",
    "read = codecs.open(\"data.txt\", 'r', 'utf-8')\n",
    "for i in (read):\n",
    "    X.append(i) \n",
    "read.close()\n",
    "\n",
    "read = open(\"data_target.txt\", 'r')\n",
    "for i in (read):\n",
    "    y.append(i) \n",
    "read.close()\n",
    "\n",
    "\n",
    "y = [int(y[i]) for i in range(len(y))]\n",
    "X = [X[i].lower() for i in range(len(X))]  \n",
    "\n",
    "X_train, X_test, y_train, y_test = train_test_split(X, y, random_state=241)\n"
   ]
  },
  {
   "cell_type": "code",
   "execution_count": 194,
   "metadata": {},
   "outputs": [],
   "source": [
    "vectorizer = TfidfVectorizer()\n",
    "X_train = vectorizer.fit_transform(X_train)\n",
    "vectorizer.get_feature_names()\n",
    "\n",
    "clf = SVC(C=100, kernel='linear', random_state=241) #С=1.0 по умолчанию\n",
    "clf.fit(X_train,y_train)\n",
    "\n",
    "#10 слов с наибольшим абсолютным значением веса\n",
    "#Находим слова с наиболее большим весом из get_feature_names()\n",
    "df = pd.DataFrame(np.transpose(abs(clf.coef_.toarray())), #Берем по модулю потому что 2 класса todense() переводит матрицу из разряженной в обычную \n",
    "                   index=np.asarray(vectorizer.get_feature_names()), \n",
    "                   columns=[\"col\"])\n"
   ]
  },
  {
   "cell_type": "markdown",
   "metadata": {},
   "source": [
    "### Вывод опорных слов (векторов)"
   ]
  },
  {
   "cell_type": "code",
   "execution_count": 195,
   "metadata": {},
   "outputs": [
    {
     "data": {
      "text/html": [
       "<div>\n",
       "<style scoped>\n",
       "    .dataframe tbody tr th:only-of-type {\n",
       "        vertical-align: middle;\n",
       "    }\n",
       "\n",
       "    .dataframe tbody tr th {\n",
       "        vertical-align: top;\n",
       "    }\n",
       "\n",
       "    .dataframe thead th {\n",
       "        text-align: right;\n",
       "    }\n",
       "</style>\n",
       "<table border=\"1\" class=\"dataframe\">\n",
       "  <thead>\n",
       "    <tr style=\"text-align: right;\">\n",
       "      <th></th>\n",
       "      <th>col</th>\n",
       "    </tr>\n",
       "  </thead>\n",
       "  <tbody>\n",
       "    <tr>\n",
       "      <th>10</th>\n",
       "      <td>0.603934</td>\n",
       "    </tr>\n",
       "    <tr>\n",
       "      <th>больницу</th>\n",
       "      <td>0.825788</td>\n",
       "    </tr>\n",
       "    <tr>\n",
       "      <th>вирус</th>\n",
       "      <td>0.580652</td>\n",
       "    </tr>\n",
       "    <tr>\n",
       "      <th>если</th>\n",
       "      <td>0.594214</td>\n",
       "    </tr>\n",
       "    <tr>\n",
       "      <th>заболевания</th>\n",
       "      <td>0.611246</td>\n",
       "    </tr>\n",
       "    <tr>\n",
       "      <th>инфекцией</th>\n",
       "      <td>0.607513</td>\n",
       "    </tr>\n",
       "    <tr>\n",
       "      <th>китае</th>\n",
       "      <td>0.587685</td>\n",
       "    </tr>\n",
       "    <tr>\n",
       "      <th>коронавирус</th>\n",
       "      <td>1.534494</td>\n",
       "    </tr>\n",
       "    <tr>\n",
       "      <th>коронавируса</th>\n",
       "      <td>0.962408</td>\n",
       "    </tr>\n",
       "    <tr>\n",
       "      <th>мест</th>\n",
       "      <td>0.603934</td>\n",
       "    </tr>\n",
       "    <tr>\n",
       "      <th>от</th>\n",
       "      <td>1.068943</td>\n",
       "    </tr>\n",
       "    <tr>\n",
       "      <th>построили</th>\n",
       "      <td>0.603934</td>\n",
       "    </tr>\n",
       "    <tr>\n",
       "      <th>происходит</th>\n",
       "      <td>0.640263</td>\n",
       "    </tr>\n",
       "    <tr>\n",
       "      <th>россии</th>\n",
       "      <td>0.781844</td>\n",
       "    </tr>\n",
       "    <tr>\n",
       "      <th>случаев</th>\n",
       "      <td>0.921677</td>\n",
       "    </tr>\n",
       "    <tr>\n",
       "      <th>только</th>\n",
       "      <td>0.612999</td>\n",
       "    </tr>\n",
       "    <tr>\n",
       "      <th>тысячу</th>\n",
       "      <td>0.603934</td>\n",
       "    </tr>\n",
       "    <tr>\n",
       "      <th>ухане</th>\n",
       "      <td>0.603934</td>\n",
       "    </tr>\n",
       "    <tr>\n",
       "      <th>шереметьево</th>\n",
       "      <td>0.640263</td>\n",
       "    </tr>\n",
       "    <tr>\n",
       "      <th>этот</th>\n",
       "      <td>0.581979</td>\n",
       "    </tr>\n",
       "  </tbody>\n",
       "</table>\n",
       "</div>"
      ],
      "text/plain": [
       "                   col\n",
       "10            0.603934\n",
       "больницу      0.825788\n",
       "вирус         0.580652\n",
       "если          0.594214\n",
       "заболевания   0.611246\n",
       "инфекцией     0.607513\n",
       "китае         0.587685\n",
       "коронавирус   1.534494\n",
       "коронавируса  0.962408\n",
       "мест          0.603934\n",
       "от            1.068943\n",
       "построили     0.603934\n",
       "происходит    0.640263\n",
       "россии        0.781844\n",
       "случаев       0.921677\n",
       "только        0.612999\n",
       "тысячу        0.603934\n",
       "ухане         0.603934\n",
       "шереметьево   0.640263\n",
       "этот          0.581979"
      ]
     },
     "metadata": {},
     "output_type": "display_data"
    }
   ],
   "source": [
    "df_sort = df.sort_values(by='col')[::-1]\n",
    "display(df_sort[:20].sort_index())"
   ]
  },
  {
   "cell_type": "markdown",
   "metadata": {},
   "source": [
    "### Вывод и предсказание"
   ]
  },
  {
   "cell_type": "code",
   "execution_count": 196,
   "metadata": {},
   "outputs": [
    {
     "name": "stdout",
     "output_type": "stream",
     "text": [
      "0.8518518518518519\n",
      "0.8518518518518519\n",
      "0.5\n",
      "0.5\n",
      "0.5\n"
     ]
    },
    {
     "data": {
      "text/plain": [
       "0.8"
      ]
     },
     "execution_count": 196,
     "metadata": {},
     "output_type": "execute_result"
    }
   ],
   "source": [
    "X_test = vectorizer.transform(X_test)\n",
    "print(clf.score(X_test, y_test)) #оценка 0.85\n",
    "print(accuracy_score(y_test, clf.predict(X_test)))\n",
    "print(f1_score(y_test, clf.predict(X_test))) # оценка 0.5\n",
    "print(precision_score(y_test, clf.predict(X_test)))\n",
    "print(recall_score(y_test, clf.predict(X_test)))\n",
    "\n",
    "X_test2 = ['В Москве на 3 марта новых случаев заболевания коронавирусом не выявлено', \n",
    "          'В таблицах ниже приведены подтвержденные случаи заболевания коронавирусом (2019-nCoV, официально известный как SARS-CoV-2 или COVID-19) в Китае и других странах.Чтобы просмотреть карту распределения и временную шкалу, прокрутите вниз',\n",
    "          'Вакцина против коронавируса: насколько быстро её могут создать?',\n",
    "          'Ранее сообщалось, что на борту воздушного судна находятся 113 пассажиров и шесть членов экипажа',\n",
    "           'У двух россиян в ОАЭ выявили коронавирус, сообщило агентство WAM со ссылкой на Минздрав страны. В ведомстве отметили, что заболевшие контактировали с итальянскими велогонщиками, которые были заражены вирусом.'\n",
    "          ]\n",
    "X_test2 = vectorizer.transform(X_test2)\n",
    "clf.predict(X_test2)\n",
    "\n",
    "clf.score(X_test2, [1, 1, 1, 0, 1])"
   ]
  },
  {
   "cell_type": "code",
   "execution_count": null,
   "metadata": {},
   "outputs": [],
   "source": []
  },
  {
   "cell_type": "code",
   "execution_count": null,
   "metadata": {},
   "outputs": [],
   "source": []
  }
 ],
 "metadata": {
  "kernelspec": {
   "display_name": "Python 3",
   "language": "python",
   "name": "python3"
  },
  "language_info": {
   "codemirror_mode": {
    "name": "ipython",
    "version": 3
   },
   "file_extension": ".py",
   "mimetype": "text/x-python",
   "name": "python",
   "nbconvert_exporter": "python",
   "pygments_lexer": "ipython3",
   "version": "3.7.4"
  }
 },
 "nbformat": 4,
 "nbformat_minor": 4
}
