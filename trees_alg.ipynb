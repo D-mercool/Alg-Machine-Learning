{
 "cells": [
  {
   "cell_type": "markdown",
   "metadata": {},
   "source": [
    "## Решающие деревья относятся к классу логических методов"
   ]
  },
  {
   "cell_type": "markdown",
   "metadata": {},
   "source": [
    "### Данные\n",
    "В этом задании мы вновь рассмотрим данные о пассажирах Титаника. Будем решать на них задачу классификации, в которой по различным характеристикам пассажиров требуется предсказать, кто из них выжил после крушения корабля.\n",
    "\n"
   ]
  },
  {
   "cell_type": "code",
   "execution_count": 2,
   "metadata": {},
   "outputs": [],
   "source": [
    "import numpy as np\n",
    "from sklearn.tree import DecisionTreeClassifier"
   ]
  },
  {
   "cell_type": "code",
   "execution_count": 18,
   "metadata": {},
   "outputs": [
    {
     "data": {
      "text/plain": [
       "array([[False, False],\n",
       "       [False, False],\n",
       "       [False, False]])"
      ]
     },
     "execution_count": 18,
     "metadata": {},
     "output_type": "execute_result"
    }
   ],
   "source": [
    "X = np.array([[1, 2], [3, 4], [5, 6]])\n",
    "y = np.array([0, 1, 0])\n",
    "clf = DecisionTreeClassifier()\n",
    "clf.fit(X, y)\n",
    "\n",
    "#Важность признаков\n",
    "importances = clf.feature_importances_\n",
    "#Является ли число Nan\n",
    "np.isnan(X)"
   ]
  },
  {
   "cell_type": "code",
   "execution_count": 261,
   "metadata": {},
   "outputs": [
    {
     "data": {
      "text/plain": [
       "array([0.14551471, 0.30767871, 0.24629437, 0.30051221])"
      ]
     },
     "metadata": {},
     "output_type": "display_data"
    },
    {
     "name": "stdout",
     "output_type": "stream",
     "text": [
      "Важные признаки:  Fare Sex\n"
     ]
    }
   ],
   "source": [
    "import pandas as pd\n",
    "import numpy as np\n",
    "from sklearn.tree import DecisionTreeClassifier\n",
    "\n",
    "data = pd.read_csv('test.csv', index_col='PassengerId')\n",
    "data.loc[data['Sex'] == 'male', 'Sex'] = 0\n",
    "data.loc[data['Sex'] == 'female', 'Sex'] = 1\n",
    "X = data[np.isnan(data['Age']) == False][['Pclass', 'Fare', 'Age', 'Sex']]\n",
    "y = data[np.isnan(data['Age']) == False]['Survived']\n",
    "\n",
    "#Обучение\n",
    "clf = DecisionTreeClassifier(random_state=240)\n",
    "clf.fit(X, y)\n",
    "\n",
    "#Важность признаков\n",
    "importances = clf.feature_importances_\n",
    "\n",
    "display(importances)\n",
    "\n",
    "print('Важные признаки: ', X['Fare'].name, X['Sex'].name)"
   ]
  },
  {
   "cell_type": "markdown",
   "metadata": {},
   "source": [
    "Эти признаки являются наиболее информативными, так как при крушении корабля в первую очередь спасали женщин и пассажиров первого класса, где ехали пассажиры с наиболее дорогими билетами"
   ]
  },
  {
   "cell_type": "code",
   "execution_count": null,
   "metadata": {},
   "outputs": [],
   "source": []
  }
 ],
 "metadata": {
  "kernelspec": {
   "display_name": "Python 3",
   "language": "python",
   "name": "python3"
  },
  "language_info": {
   "codemirror_mode": {
    "name": "ipython",
    "version": 3
   },
   "file_extension": ".py",
   "mimetype": "text/x-python",
   "name": "python",
   "nbconvert_exporter": "python",
   "pygments_lexer": "ipython3",
   "version": "3.7.4"
  }
 },
 "nbformat": 4,
 "nbformat_minor": 4
}
