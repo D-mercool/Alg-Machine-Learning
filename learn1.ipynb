{
 "cells": [
  {
   "cell_type": "code",
   "execution_count": 2,
   "metadata": {},
   "outputs": [
    {
     "data": {
      "text/plain": [
       "True     577\n",
       "False    314\n",
       "Name: Sex, dtype: int64"
      ]
     },
     "execution_count": 2,
     "metadata": {},
     "output_type": "execute_result"
    }
   ],
   "source": [
    "import pandas as pd\n",
    "\n",
    "data = pd.read_csv('test.csv', index_col='PassengerId')\n",
    "pd.value_counts(data['Sex'] == 'male')"
   ]
  },
  {
   "cell_type": "code",
   "execution_count": 28,
   "metadata": {},
   "outputs": [
    {
     "name": "stdout",
     "output_type": "stream",
     "text": [
      "Удалось выжить:  0.3838383838383838\n"
     ]
    },
    {
     "data": {
      "text/plain": [
       "0    549\n",
       "1    342\n",
       "Name: Survived, dtype: int64"
      ]
     },
     "execution_count": 28,
     "metadata": {},
     "output_type": "execute_result"
    }
   ],
   "source": [
    "\n",
    "print('Удалось выжить: ', pd.value_counts(data['Survived'])[1]/(pd.value_counts(data['Survived'])[0]+pd.value_counts(data['Survived'])[1]))\n",
    "pd.value_counts(data['Survived'])"
   ]
  },
  {
   "cell_type": "code",
   "execution_count": 101,
   "metadata": {},
   "outputs": [
    {
     "name": "stdout",
     "output_type": "stream",
     "text": [
      "False    0.757576\n",
      "True     0.242424\n",
      "Name: Pclass, dtype: float64\n"
     ]
    }
   ],
   "source": [
    "print(pd.value_counts(data['Pclass']==1)/pd.value_counts(data['Pclass']).sum())"
   ]
  },
  {
   "cell_type": "code",
   "execution_count": 52,
   "metadata": {},
   "outputs": [
    {
     "name": "stdout",
     "output_type": "stream",
     "text": [
      "Среднее:  29.69911764705882\n",
      "Медиана:  28.0\n"
     ]
    }
   ],
   "source": [
    "print('Среднее: ', data['Age'].mean())\n",
    "print('Медиана: ', data['Age'].median())"
   ]
  },
  {
   "cell_type": "code",
   "execution_count": 94,
   "metadata": {},
   "outputs": [
    {
     "name": "stdout",
     "output_type": "stream",
     "text": [
      "Корреляция:  0.41483769862015263\n"
     ]
    }
   ],
   "source": [
    "print('Корреляция: ', data[['Parch','SibSp']].corr().iloc[0][1])\n"
   ]
  },
  {
   "cell_type": "code",
   "execution_count": 217,
   "metadata": {},
   "outputs": [
    {
     "name": "stdout",
     "output_type": "stream",
     "text": [
      "William      13\n",
      "Anna          9\n",
      "Mary          9\n",
      "Elizabeth     6\n",
      "Thomas        6\n",
      "             ..\n",
      "Harvey        1\n",
      "Katie         1\n",
      "Ruth          1\n",
      "Solomon       1\n",
      "Ernst         1\n",
      "Length: 183, dtype: int64\n"
     ]
    },
    {
     "data": {
      "text/plain": [
       "PassengerId\n",
       "42    Turpin, Mrs. William John Robert (Dorothy Ann ...\n",
       "44             Laroche, Miss. Simonne Marie Anne Andree\n",
       "45                        Devaney, Miss. Margaret Delia\n",
       "48                            O'Driscoll, Miss. Bridget\n",
       "50        Arnold-Franchi, Mrs. Josef (Josefine Franchi)\n",
       "53             Harper, Mrs. Henry Sleeper (Myna Haxtun)\n",
       "54    Faunthorpe, Mrs. Lizzie (Elizabeth Anne Wilkin...\n",
       "57                                    Rugg, Miss. Emily\n",
       "59                         West, Miss. Constance Mirium\n",
       "62                                  Icard, Miss. Amelie\n",
       "Name: Name, dtype: object"
      ]
     },
     "execution_count": 217,
     "metadata": {},
     "output_type": "execute_result"
    }
   ],
   "source": [
    "import re \n",
    "name = data[data['Sex'] =='female']['Name']\n",
    "\n",
    "gr1 = name.str.findall(r'Miss. \\w+')\n",
    "gr2 = name.str.findall(r'Mrs. \\w+')\n",
    "group = gr1+gr2\n",
    "mass = []\n",
    "for i in group:\n",
    "    if i == []:\n",
    "        continue\n",
    "    mass.append(re.findall(r'\\w+', i[0])[1])\n",
    "group = pd.Series(mass)\n",
    "\n",
    "print(pd.value_counts(group))\n",
    "name[20:30]"
   ]
  },
  {
   "cell_type": "code",
   "execution_count": null,
   "metadata": {},
   "outputs": [],
   "source": []
  }
 ],
 "metadata": {
  "kernelspec": {
   "display_name": "Python 3",
   "language": "python",
   "name": "python3"
  },
  "language_info": {
   "codemirror_mode": {
    "name": "ipython",
    "version": 3
   },
   "file_extension": ".py",
   "mimetype": "text/x-python",
   "name": "python",
   "nbconvert_exporter": "python",
   "pygments_lexer": "ipython3",
   "version": "3.7.4"
  }
 },
 "nbformat": 4,
 "nbformat_minor": 4
}
